{
 "metadata": {
  "name": "",
  "signature": "sha256:469a4769450929a6b51505740a6146cdf6306ad6e0e9c01a83f5622d5387b348"
 },
 "nbformat": 3,
 "nbformat_minor": 0,
 "worksheets": [
  {
   "cells": [
    {
     "cell_type": "code",
     "collapsed": false,
     "input": [
      "#Twitter information\n",
      "#API key - wc5dil2bfWnxZzXQ7l3dFwPE6 \n",
      "#API secret - EWI2ApvZXtskDWZwKUW2lQKghPvmJvjy67PVms5KHwGi2Kaxgq \n",
      "#Access Token - 2200479902-SHxQvXGymPGb5v6O7zg1RZofvNuwuDrETKPQncX\n",
      "#Access Token Secret - OXQSgOxCLRCQAUSuxNtoLTMUbDvxqncgp6NyLtMkrRtkn "
     ],
     "language": "python",
     "metadata": {},
     "outputs": [],
     "prompt_number": 1
    },
    {
     "cell_type": "code",
     "collapsed": false,
     "input": [
      "%matplotlib inline\n",
      "import numpy as np\n",
      "import matplotlib.pyplot as plt\n",
      "import pandas as pd\n",
      "import seaborn as sns\n",
      "pd.set_option('display.width', 500)\n",
      "pd.set_option('display.max_columns', 100)"
     ],
     "language": "python",
     "metadata": {},
     "outputs": [],
     "prompt_number": 2
    },
    {
     "cell_type": "code",
     "collapsed": false,
     "input": [
      "import twitter"
     ],
     "language": "python",
     "metadata": {},
     "outputs": [],
     "prompt_number": 3
    },
    {
     "cell_type": "code",
     "collapsed": false,
     "input": [
      "#twitter keys\n",
      "T_KEY = \"wc5dil2bfWnxZzXQ7l3dFwPE6\"\n",
      "T_KEY_S = \"EWI2ApvZXtskDWZwKUW2lQKghPvmJvjy67PVms5KHwGi2Kaxgq\"\n",
      "T_TOKEN = \"2200479902-SHxQvXGymPGb5v6O7zg1RZofvNuwuDrETKPQncX\"\n",
      "T_TOKEN_S = \"OXQSgOxCLRCQAUSuxNtoLTMUbDvxqncgp6NyLtMkrRtkn\"\n",
      "\n",
      "auth = twitter.oauth.OAuth(T_TOKEN, T_TOKEN_S,\n",
      "                           T_KEY, T_KEY_S)\n",
      "\n",
      "twitter_api = twitter.Twitter(auth=auth)\n",
      "\n",
      "# Nothing to see by displaying twitter_api except that it's now a\n",
      "# defined variable\n",
      "\n",
      "print twitter_api"
     ],
     "language": "python",
     "metadata": {},
     "outputs": [
      {
       "output_type": "stream",
       "stream": "stdout",
       "text": [
        "<twitter.api.Twitter object at 0x10bc543d0>\n"
       ]
      }
     ],
     "prompt_number": 6
    },
    {
     "cell_type": "code",
     "collapsed": false,
     "input": [
      "WORLD_WOE_ID = 1\n",
      "US_WOE_ID = 23424977\n",
      "us_trends = twitter_api.trends.place(_id=US_WOE_ID)\n",
      "world_trends = twitter_api.trends.place(_id=WORLD_WOE_ID)\n",
      "print us_trends"
     ],
     "language": "python",
     "metadata": {},
     "outputs": [
      {
       "output_type": "stream",
       "stream": "stdout",
       "text": [
        "[{u'created_at': u'2014-10-22T21:40:38Z', u'trends': [{u'url': u'http://twitter.com/search?q=%23BryantAndNashNewVideo', u'query': u'%23BryantAndNashNewVideo', u'name': u'#BryantAndNashNewVideo', u'promoted_content': None}, {u'url': u'http://twitter.com/search?q=%23ListenToGhostOnYouTube', u'query': u'%23ListenToGhostOnYouTube', u'name': u'#ListenToGhostOnYouTube', u'promoted_content': None}, {u'url': u'http://twitter.com/search?q=%235SOSAmnesiaLyrics', u'query': u'%235SOSAmnesiaLyrics', u'name': u'#5SOSAmnesiaLyrics', u'promoted_content': None}, {u'url': u'http://twitter.com/search?q=%23BigTimeLyrics', u'query': u'%23BigTimeLyrics', u'name': u'#BigTimeLyrics', u'promoted_content': None}, {u'url': u'http://twitter.com/search?q=%23OttawaShooting', u'query': u'%23OttawaShooting', u'name': u'#OttawaShooting', u'promoted_content': None}, {u'url': u'http://twitter.com/search?q=%22Nathan+Cirillo%22', u'query': u'%22Nathan+Cirillo%22', u'name': u'Nathan Cirillo', u'promoted_content': None}, {u'url': u'http://twitter.com/search?q=%22Michael+Zehaf-Bibeau%22', u'query': u'%22Michael+Zehaf-Bibeau%22', u'name': u'Michael Zehaf-Bibeau', u'promoted_content': None}, {u'url': u'http://twitter.com/search?q=%22Ben+Bradlee%22', u'query': u'%22Ben+Bradlee%22', u'name': u'Ben Bradlee', u'promoted_content': None}, {u'url': u'http://twitter.com/search?q=Makonnen', u'query': u'Makonnen', u'name': u'Makonnen', u'promoted_content': None}, {u'url': u'http://twitter.com/search?q=%22Tuesday%22', u'query': u'%22Tuesday%22', u'name': u'\"Tuesday\"', u'promoted_content': None}], u'as_of': u'2014-10-22T21:45:15Z', u'locations': [{u'woeid': 23424977, u'name': u'United States'}]}]\n"
       ]
      }
     ],
     "prompt_number": 21
    },
    {
     "cell_type": "code",
     "collapsed": false,
     "input": [
      "for item in us_trends[0]['trends']:\n",
      "    print item['name']"
     ],
     "language": "python",
     "metadata": {},
     "outputs": [
      {
       "output_type": "stream",
       "stream": "stdout",
       "text": [
        "#BryantAndNashNewVideo\n",
        "#ListenToGhostOnYouTube\n",
        "#5SOSAmnesiaLyrics\n",
        "#BigTimeLyrics\n",
        "#OttawaShooting\n",
        "Nathan Cirillo\n",
        "Michael Zehaf-Bibeau\n",
        "Ben Bradlee\n",
        "Makonnen\n",
        "\"Tuesday\"\n"
       ]
      }
     ],
     "prompt_number": 22
    },
    {
     "cell_type": "code",
     "collapsed": false,
     "input": [
      "wpi = twitter_api.search.tweets(q=\"#wpi\")\n",
      "print wpi"
     ],
     "language": "python",
     "metadata": {},
     "outputs": [
      {
       "output_type": "stream",
       "stream": "stdout",
       "text": [
        "{u'search_metadata': {u'count': 15, u'completed_in': 0.045, u'max_id_str': u'525030509181952000', u'since_id_str': u'0', u'next_results': u'?max_id=524752432505425921&q=%23wpi&include_entities=1', u'refresh_url': u'?since_id=525030509181952000&q=%23wpi&include_entities=1', u'since_id': 0, u'query': u'%23wpi', u'max_id': 525030509181952000}, u'statuses': [{u'contributors': None, u'truncated': False, u'text': u\"Men's Soccer leads @FalconSports 1-0 at the half; Video: http://t.co/rPXZW67LYQ Live Stats: http://t.co/bSvYTDRwvZ #d3soc #WPI\", u'in_reply_to_status_id': None, u'id': 525030509181952000, u'favorite_count': 0, u'source': u'<a href=\"http://www.hootsuite.com\" rel=\"nofollow\">Hootsuite</a>', u'retweeted': False, u'coordinates': None, u'entities': {u'symbols': [], u'user_mentions': [{u'id': 26008093, u'indices': [19, 32], u'id_str': u'26008093', u'screen_name': u'FalconSports', u'name': u'Fitchburg Falcons'}], u'hashtags': [{u'indices': [115, 121], u'text': u'd3soc'}, {u'indices': [122, 126], u'text': u'WPI'}], u'urls': [{u'url': u'http://t.co/rPXZW67LYQ', u'indices': [57, 79], u'expanded_url': u'http://ow.ly/DbG1p', u'display_url': u'ow.ly/DbG1p'}, {u'url': u'http://t.co/bSvYTDRwvZ', u'indices': [92, 114], u'expanded_url': u'http://ow.ly/DbG1q', u'display_url': u'ow.ly/DbG1q'}]}, u'in_reply_to_screen_name': None, u'in_reply_to_user_id': None, u'retweet_count': 0, u'id_str': u'525030509181952000', u'favorited': False, u'user': {u'follow_request_sent': False, u'profile_use_background_image': True, u'profile_text_color': u'333333', u'default_profile_image': False, u'id': 69643394, u'profile_background_image_url_https': u'https://abs.twimg.com/images/themes/theme14/bg.gif', u'verified': False, u'profile_location': None, u'profile_image_url_https': u'https://pbs.twimg.com/profile_images/3002971534/844d53e2119af0781e12a4f414944645_normal.jpeg', u'profile_sidebar_fill_color': u'EFEFEF', u'entities': {u'url': {u'urls': [{u'url': u'http://t.co/9TD7P2YJNu', u'indices': [0, 22], u'expanded_url': u'http://athletics.wpi.edu/sports/msoc/index', u'display_url': u'athletics.wpi.edu/sports/msoc/in\\u2026'}]}, u'description': {u'urls': []}}, u'followers_count': 120, u'profile_sidebar_border_color': u'EEEEEE', u'id_str': u'69643394', u'profile_background_color': u'131516', u'listed_count': 2, u'is_translation_enabled': False, u'utc_offset': -14400, u'statuses_count': 584, u'description': u\"WPI Men's Soccer news, announcements, updates, and results. Follow @WPIAthletics for all WPI Athletics updates.\", u'friends_count': 1, u'location': u'Worcester, MA', u'profile_link_color': u'009999', u'profile_image_url': u'http://pbs.twimg.com/profile_images/3002971534/844d53e2119af0781e12a4f414944645_normal.jpeg', u'following': True, u'geo_enabled': False, u'profile_background_image_url': u'http://abs.twimg.com/images/themes/theme14/bg.gif', u'name': u\"WPI Men's Soccer\", u'lang': u'en', u'profile_background_tile': True, u'favourites_count': 6, u'screen_name': u'WPIMSoccer', u'notifications': False, u'url': u'http://t.co/9TD7P2YJNu', u'created_at': u'Fri Aug 28 17:25:35 +0000 2009', u'contributors_enabled': False, u'time_zone': u'Eastern Time (US & Canada)', u'protected': False, u'default_profile': False, u'is_translator': False}, u'geo': None, u'in_reply_to_user_id_str': None, u'possibly_sensitive': False, u'lang': u'en', u'created_at': u'Wed Oct 22 21:06:42 +0000 2014', u'in_reply_to_status_id_str': None, u'place': None, u'metadata': {u'iso_language_code': u'en', u'result_type': u'recent'}}, {u'contributors': None, u'truncated': False, u'text': u\"Men's Soccer leads @FalconSports 1-0 at the half; Video: http://t.co/DCffignpm6 Live Stats: http://t.co/TrAQsY6roU #d3soc #WPI\", u'in_reply_to_status_id': None, u'id': 525030508502470657, u'favorite_count': 0, u'source': u'<a href=\"http://www.hootsuite.com\" rel=\"nofollow\">Hootsuite</a>', u'retweeted': False, u'coordinates': None, u'entities': {u'symbols': [], u'user_mentions': [{u'id': 26008093, u'indices': [19, 32], u'id_str': u'26008093', u'screen_name': u'FalconSports', u'name': u'Fitchburg Falcons'}], u'hashtags': [{u'indices': [115, 121], u'text': u'd3soc'}, {u'indices': [122, 126], u'text': u'WPI'}], u'urls': [{u'url': u'http://t.co/DCffignpm6', u'indices': [57, 79], u'expanded_url': u'http://ow.ly/DbG1l', u'display_url': u'ow.ly/DbG1l'}, {u'url': u'http://t.co/TrAQsY6roU', u'indices': [92, 114], u'expanded_url': u'http://ow.ly/DbG1m', u'display_url': u'ow.ly/DbG1m'}]}, u'in_reply_to_screen_name': None, u'in_reply_to_user_id': None, u'retweet_count': 0, u'id_str': u'525030508502470657', u'favorited': False, u'user': {u'follow_request_sent': False, u'profile_use_background_image': True, u'profile_text_color': u'333333', u'default_profile_image': False, u'id': 15937427, u'profile_background_image_url_https': u'https://abs.twimg.com/images/themes/theme14/bg.gif', u'verified': False, u'profile_location': None, u'profile_image_url_https': u'https://pbs.twimg.com/profile_images/2869234056/1898d94ac789538ebe447b7d1c2c294d_normal.jpeg', u'profile_sidebar_fill_color': u'EFEFEF', u'entities': {u'url': {u'urls': [{u'url': u'http://t.co/KHgXFb3s3z', u'indices': [0, 22], u'expanded_url': u'http://athletics.wpi.edu', u'display_url': u'athletics.wpi.edu'}]}, u'description': {u'urls': []}}, u'followers_count': 1929, u'profile_sidebar_border_color': u'EEEEEE', u'id_str': u'15937427', u'profile_background_color': u'131516', u'listed_count': 45, u'is_translation_enabled': False, u'utc_offset': -14400, u'statuses_count': 10182, u'description': u'Worcester Polytechnic Institute athletics news, event, and score updates. For more information and conversation, follow @WPI.', u'friends_count': 176, u'location': u'Worcester, MA', u'profile_link_color': u'009999', u'profile_image_url': u'http://pbs.twimg.com/profile_images/2869234056/1898d94ac789538ebe447b7d1c2c294d_normal.jpeg', u'following': True, u'geo_enabled': False, u'profile_background_image_url': u'http://abs.twimg.com/images/themes/theme14/bg.gif', u'name': u'WPI Athletics', u'lang': u'en', u'profile_background_tile': True, u'favourites_count': 105, u'screen_name': u'WPIAthletics', u'notifications': False, u'url': u'http://t.co/KHgXFb3s3z', u'created_at': u'Thu Aug 21 21:50:45 +0000 2008', u'contributors_enabled': False, u'time_zone': u'Eastern Time (US & Canada)', u'protected': False, u'default_profile': False, u'is_translator': False}, u'geo': None, u'in_reply_to_user_id_str': None, u'possibly_sensitive': False, u'lang': u'en', u'created_at': u'Wed Oct 22 21:06:42 +0000 2014', u'in_reply_to_status_id_str': None, u'place': None, u'metadata': {u'iso_language_code': u'en', u'result_type': u'recent'}}, {u'contributors': None, u'truncated': False, u'text': u'RT @mashpeetech: #WPI admissions and #mashpee student experiencing augmented reality http://t.co/GTNMgf142e', u'in_reply_to_status_id': None, u'id': 525026407857278976, u'favorite_count': 0, u'source': u'<a href=\"http://twitter.com/#!/download/ipad\" rel=\"nofollow\">Twitter for iPad</a>', u'retweeted': False, u'coordinates': None, u'entities': {u'symbols': [], u'user_mentions': [{u'id': 2172352394, u'indices': [3, 15], u'id_str': u'2172352394', u'screen_name': u'mashpeetech', u'name': u'Mashpeetech'}], u'hashtags': [{u'indices': [17, 21], u'text': u'WPI'}, {u'indices': [37, 45], u'text': u'mashpee'}], u'urls': [], u'media': [{u'source_status_id_str': u'524991171651977217', u'expanded_url': u'http://twitter.com/mashpeetech/status/524991171651977217/photo/1', u'display_url': u'pic.twitter.com/GTNMgf142e', u'url': u'http://t.co/GTNMgf142e', u'media_url_https': u'https://pbs.twimg.com/media/B0kksF1IUAERAsN.jpg', u'source_status_id': 524991171651977217, u'id_str': u'524991171463237633', u'sizes': {u'small': {u'h': 253, u'resize': u'fit', u'w': 340}, u'large': {u'h': 764, u'resize': u'fit', u'w': 1024}, u'medium': {u'h': 447, u'resize': u'fit', u'w': 600}, u'thumb': {u'h': 150, u'resize': u'crop', u'w': 150}}, u'indices': [85, 107], u'type': u'photo', u'id': 524991171463237633, u'media_url': u'http://pbs.twimg.com/media/B0kksF1IUAERAsN.jpg'}]}, u'in_reply_to_screen_name': None, u'in_reply_to_user_id': None, u'retweet_count': 1, u'id_str': u'525026407857278976', u'favorited': False, u'retweeted_status': {u'contributors': None, u'truncated': False, u'text': u'#WPI admissions and #mashpee student experiencing augmented reality http://t.co/GTNMgf142e', u'in_reply_to_status_id': None, u'id': 524991171651977217, u'favorite_count': 2, u'source': u'<a href=\"http://www.apple.com\" rel=\"nofollow\">iOS</a>', u'retweeted': False, u'coordinates': None, u'entities': {u'symbols': [], u'user_mentions': [], u'hashtags': [{u'indices': [0, 4], u'text': u'WPI'}, {u'indices': [20, 28], u'text': u'mashpee'}], u'urls': [], u'media': [{u'expanded_url': u'http://twitter.com/mashpeetech/status/524991171651977217/photo/1', u'display_url': u'pic.twitter.com/GTNMgf142e', u'url': u'http://t.co/GTNMgf142e', u'media_url_https': u'https://pbs.twimg.com/media/B0kksF1IUAERAsN.jpg', u'id_str': u'524991171463237633', u'sizes': {u'small': {u'h': 253, u'resize': u'fit', u'w': 340}, u'large': {u'h': 764, u'resize': u'fit', u'w': 1024}, u'medium': {u'h': 447, u'resize': u'fit', u'w': 600}, u'thumb': {u'h': 150, u'resize': u'crop', u'w': 150}}, u'indices': [68, 90], u'type': u'photo', u'id': 524991171463237633, u'media_url': u'http://pbs.twimg.com/media/B0kksF1IUAERAsN.jpg'}]}, u'in_reply_to_screen_name': None, u'in_reply_to_user_id': None, u'retweet_count': 1, u'id_str': u'524991171651977217', u'favorited': False, u'user': {u'follow_request_sent': False, u'profile_use_background_image': True, u'profile_text_color': u'333333', u'default_profile_image': False, u'id': 2172352394, u'profile_background_image_url_https': u'https://abs.twimg.com/images/themes/theme1/bg.png', u'verified': False, u'profile_location': None, u'profile_image_url_https': u'https://pbs.twimg.com/profile_images/378800000688870983/410538307a21fcc736482abf3ec80a05_normal.jpeg', u'profile_sidebar_fill_color': u'DDEEF6', u'entities': {u'url': {u'urls': [{u'url': u'http://t.co/8kDa3napXQ', u'indices': [0, 22], u'expanded_url': u'http://mashpeetech.com', u'display_url': u'mashpeetech.com'}]}, u'description': {u'urls': []}}, u'followers_count': 92, u'profile_sidebar_border_color': u'C0DEED', u'id_str': u'2172352394', u'profile_background_color': u'C0DEED', u'listed_count': 1, u'is_translation_enabled': False, u'utc_offset': None, u'statuses_count': 195, u'description': u'The Mashpee Technology Center offers innovative Technology and Engineering courses to the students of Mashpee Public Schools', u'friends_count': 80, u'location': u'', u'profile_link_color': u'0084B4', u'profile_image_url': u'http://pbs.twimg.com/profile_images/378800000688870983/410538307a21fcc736482abf3ec80a05_normal.jpeg', u'following': False, u'geo_enabled': False, u'profile_banner_url': u'https://pbs.twimg.com/profile_banners/2172352394/1392480018', u'profile_background_image_url': u'http://abs.twimg.com/images/themes/theme1/bg.png', u'name': u'Mashpeetech', u'lang': u'en', u'profile_background_tile': False, u'favourites_count': 18, u'screen_name': u'mashpeetech', u'notifications': False, u'url': u'http://t.co/8kDa3napXQ', u'created_at': u'Sun Nov 03 15:33:57 +0000 2013', u'contributors_enabled': False, u'time_zone': None, u'protected': False, u'default_profile': True, u'is_translator': False}, u'geo': None, u'in_reply_to_user_id_str': None, u'possibly_sensitive': False, u'lang': u'en', u'created_at': u'Wed Oct 22 18:30:23 +0000 2014', u'in_reply_to_status_id_str': None, u'place': None, u'metadata': {u'iso_language_code': u'en', u'result_type': u'recent'}}, u'user': {u'follow_request_sent': False, u'profile_use_background_image': True, u'profile_text_color': u'333333', u'default_profile_image': False, u'id': 215367539, u'profile_background_image_url_https': u'https://abs.twimg.com/images/themes/theme14/bg.gif', u'verified': False, u'profile_location': None, u'profile_image_url_https': u'https://pbs.twimg.com/profile_images/504676035607429120/vaR--N_j_normal.jpeg', u'profile_sidebar_fill_color': u'EFEFEF', u'entities': {u'description': {u'urls': []}}, u'followers_count': 554, u'profile_sidebar_border_color': u'EEEEEE', u'id_str': u'215367539', u'profile_background_color': u'131516', u'listed_count': 13, u'is_translation_enabled': False, u'utc_offset': -14400, u'statuses_count': 2611, u'description': u\"Interested in education, municipal and county activity on Cape Cod, Martha's Vineyard, Nantucket & beyond. Mashpee & Cape Cod Reg. Tech School Committee Member.\", u'friends_count': 511, u'location': u'Mashpee, Massachusetts', u'profile_link_color': u'009999', u'profile_image_url': u'http://pbs.twimg.com/profile_images/504676035607429120/vaR--N_j_normal.jpeg', u'following': False, u'geo_enabled': False, u'profile_banner_url': u'https://pbs.twimg.com/profile_banners/215367539/1379451711', u'profile_background_image_url': u'http://abs.twimg.com/images/themes/theme14/bg.gif', u'name': u'Scott McGee ', u'lang': u'en', u'profile_background_tile': True, u'favourites_count': 1078, u'screen_name': u'Scott_P_McGee', u'notifications': False, u'url': None, u'created_at': u'Sat Nov 13 18:54:04 +0000 2010', u'contributors_enabled': False, u'time_zone': u'Eastern Time (US & Canada)', u'protected': False, u'default_profile': False, u'is_translator': False}, u'geo': None, u'in_reply_to_user_id_str': None, u'possibly_sensitive': False, u'lang': u'en', u'created_at': u'Wed Oct 22 20:50:24 +0000 2014', u'in_reply_to_status_id_str': None, u'place': None, u'metadata': {u'iso_language_code': u'en', u'result_type': u'recent'}}, {u'contributors': None, u'truncated': False, u'text': u'Hangin w/my Wisconsin Procurement Institute (WPI) peeps at the Wisconsin Marketplace Conf. #MRKT14 #BPC ##WPI... http://t.co/uoVIc82Cz4', u'in_reply_to_status_id': None, u'id': 525024934523699200, u'favorite_count': 0, u'source': u'<a href=\"http://www.facebook.com/twitter\" rel=\"nofollow\">Facebook</a>', u'retweeted': False, u'coordinates': None, u'entities': {u'symbols': [], u'user_mentions': [], u'hashtags': [{u'indices': [91, 98], u'text': u'MRKT14'}, {u'indices': [99, 103], u'text': u'BPC'}, {u'indices': [105, 109], u'text': u'WPI'}], u'urls': [{u'url': u'http://t.co/uoVIc82Cz4', u'indices': [113, 135], u'expanded_url': u'http://fb.me/1qe5YTxni', u'display_url': u'fb.me/1qe5YTxni'}]}, u'in_reply_to_screen_name': None, u'in_reply_to_user_id': None, u'retweet_count': 0, u'id_str': u'525024934523699200', u'favorited': False, u'user': {u'follow_request_sent': False, u'profile_use_background_image': True, u'profile_text_color': u'333333', u'default_profile_image': False, u'id': 509760353, u'profile_background_image_url_https': u'https://abs.twimg.com/images/themes/theme16/bg.gif', u'verified': False, u'profile_location': None, u'profile_image_url_https': u'https://pbs.twimg.com/profile_images/520676938398961665/v1t5IUXf_normal.png', u'profile_sidebar_fill_color': u'DDFFCC', u'entities': {u'url': {u'urls': [{u'url': u'http://t.co/HPDiZjHnoL', u'indices': [0, 22], u'expanded_url': u'http://www.bpcwi.com', u'display_url': u'bpcwi.com'}]}, u'description': {u'urls': []}}, u'followers_count': 470, u'profile_sidebar_border_color': u'BDDCAD', u'id_str': u'509760353', u'profile_background_color': u'9AE4E8', u'listed_count': 21, u'is_translation_enabled': False, u'utc_offset': -18000, u'statuses_count': 2544, u'description': u'Bowman Performance Consulting (BPC): Inspired. Innovative. Indigenous. Evaluation, training, & TA. Working WITH you not ON you!', u'friends_count': 1057, u'location': u'WI', u'profile_link_color': u'0084B4', u'profile_image_url': u'http://pbs.twimg.com/profile_images/520676938398961665/v1t5IUXf_normal.png', u'following': False, u'geo_enabled': True, u'profile_banner_url': u'https://pbs.twimg.com/profile_banners/509760353/1411440607', u'profile_background_image_url': u'http://abs.twimg.com/images/themes/theme16/bg.gif', u'name': u'BPC (Nicole Bowman)', u'lang': u'en', u'profile_background_tile': False, u'favourites_count': 615, u'screen_name': u'NBPC1', u'notifications': False, u'url': u'http://t.co/HPDiZjHnoL', u'created_at': u'Thu Mar 01 05:30:39 +0000 2012', u'contributors_enabled': False, u'time_zone': u'Central Time (US & Canada)', u'protected': False, u'default_profile': False, u'is_translator': False}, u'geo': None, u'in_reply_to_user_id_str': None, u'possibly_sensitive': False, u'lang': u'en', u'created_at': u'Wed Oct 22 20:44:33 +0000 2014', u'in_reply_to_status_id_str': None, u'place': None, u'metadata': {u'iso_language_code': u'en', u'result_type': u'recent'}}, {u'contributors': None, u'truncated': False, u'text': u\"The Engineers enter this afternoon's match ranked 11th in the initial NCAA Regional Rankings http://t.co/YmQI9xiWTM #d3soc #WPI\", u'in_reply_to_status_id': None, u'id': 525001780720312320, u'favorite_count': 0, u'source': u'<a href=\"http://www.hootsuite.com\" rel=\"nofollow\">Hootsuite</a>', u'retweeted': False, u'coordinates': None, u'entities': {u'symbols': [], u'user_mentions': [], u'hashtags': [{u'indices': [116, 122], u'text': u'd3soc'}, {u'indices': [123, 127], u'text': u'WPI'}], u'urls': [{u'url': u'http://t.co/YmQI9xiWTM', u'indices': [93, 115], u'expanded_url': u'http://ow.ly/Dbjx8', u'display_url': u'ow.ly/Dbjx8'}]}, u'in_reply_to_screen_name': None, u'in_reply_to_user_id': None, u'retweet_count': 0, u'id_str': u'525001780720312320', u'favorited': False, u'user': {u'follow_request_sent': False, u'profile_use_background_image': True, u'profile_text_color': u'333333', u'default_profile_image': False, u'id': 69643394, u'profile_background_image_url_https': u'https://abs.twimg.com/images/themes/theme14/bg.gif', u'verified': False, u'profile_location': None, u'profile_image_url_https': u'https://pbs.twimg.com/profile_images/3002971534/844d53e2119af0781e12a4f414944645_normal.jpeg', u'profile_sidebar_fill_color': u'EFEFEF', u'entities': {u'url': {u'urls': [{u'url': u'http://t.co/9TD7P2YJNu', u'indices': [0, 22], u'expanded_url': u'http://athletics.wpi.edu/sports/msoc/index', u'display_url': u'athletics.wpi.edu/sports/msoc/in\\u2026'}]}, u'description': {u'urls': []}}, u'followers_count': 120, u'profile_sidebar_border_color': u'EEEEEE', u'id_str': u'69643394', u'profile_background_color': u'131516', u'listed_count': 2, u'is_translation_enabled': False, u'utc_offset': -14400, u'statuses_count': 584, u'description': u\"WPI Men's Soccer news, announcements, updates, and results. Follow @WPIAthletics for all WPI Athletics updates.\", u'friends_count': 1, u'location': u'Worcester, MA', u'profile_link_color': u'009999', u'profile_image_url': u'http://pbs.twimg.com/profile_images/3002971534/844d53e2119af0781e12a4f414944645_normal.jpeg', u'following': True, u'geo_enabled': False, u'profile_background_image_url': u'http://abs.twimg.com/images/themes/theme14/bg.gif', u'name': u\"WPI Men's Soccer\", u'lang': u'en', u'profile_background_tile': True, u'favourites_count': 6, u'screen_name': u'WPIMSoccer', u'notifications': False, u'url': u'http://t.co/9TD7P2YJNu', u'created_at': u'Fri Aug 28 17:25:35 +0000 2009', u'contributors_enabled': False, u'time_zone': u'Eastern Time (US & Canada)', u'protected': False, u'default_profile': False, u'is_translator': False}, u'geo': None, u'in_reply_to_user_id_str': None, u'possibly_sensitive': False, u'lang': u'en', u'created_at': u'Wed Oct 22 19:12:33 +0000 2014', u'in_reply_to_status_id_str': None, u'place': None, u'metadata': {u'iso_language_code': u'en', u'result_type': u'recent'}}, {u'contributors': None, u'truncated': False, u'text': u\"The Engineers enter this afternoon's match ranked 11th in the initial NCAA Regional Rankings http://t.co/91B0sv4a1y #d3soc #WPI\", u'in_reply_to_status_id': None, u'id': 525001780019855360, u'favorite_count': 1, u'source': u'<a href=\"http://www.hootsuite.com\" rel=\"nofollow\">Hootsuite</a>', u'retweeted': False, u'coordinates': None, u'entities': {u'symbols': [], u'user_mentions': [], u'hashtags': [{u'indices': [116, 122], u'text': u'd3soc'}, {u'indices': [123, 127], u'text': u'WPI'}], u'urls': [{u'url': u'http://t.co/91B0sv4a1y', u'indices': [93, 115], u'expanded_url': u'http://ow.ly/Dbjx1', u'display_url': u'ow.ly/Dbjx1'}]}, u'in_reply_to_screen_name': None, u'in_reply_to_user_id': None, u'retweet_count': 0, u'id_str': u'525001780019855360', u'favorited': False, u'user': {u'follow_request_sent': False, u'profile_use_background_image': True, u'profile_text_color': u'333333', u'default_profile_image': False, u'id': 15937427, u'profile_background_image_url_https': u'https://abs.twimg.com/images/themes/theme14/bg.gif', u'verified': False, u'profile_location': None, u'profile_image_url_https': u'https://pbs.twimg.com/profile_images/2869234056/1898d94ac789538ebe447b7d1c2c294d_normal.jpeg', u'profile_sidebar_fill_color': u'EFEFEF', u'entities': {u'url': {u'urls': [{u'url': u'http://t.co/KHgXFb3s3z', u'indices': [0, 22], u'expanded_url': u'http://athletics.wpi.edu', u'display_url': u'athletics.wpi.edu'}]}, u'description': {u'urls': []}}, u'followers_count': 1929, u'profile_sidebar_border_color': u'EEEEEE', u'id_str': u'15937427', u'profile_background_color': u'131516', u'listed_count': 45, u'is_translation_enabled': False, u'utc_offset': -14400, u'statuses_count': 10182, u'description': u'Worcester Polytechnic Institute athletics news, event, and score updates. For more information and conversation, follow @WPI.', u'friends_count': 176, u'location': u'Worcester, MA', u'profile_link_color': u'009999', u'profile_image_url': u'http://pbs.twimg.com/profile_images/2869234056/1898d94ac789538ebe447b7d1c2c294d_normal.jpeg', u'following': True, u'geo_enabled': False, u'profile_background_image_url': u'http://abs.twimg.com/images/themes/theme14/bg.gif', u'name': u'WPI Athletics', u'lang': u'en', u'profile_background_tile': True, u'favourites_count': 105, u'screen_name': u'WPIAthletics', u'notifications': False, u'url': u'http://t.co/KHgXFb3s3z', u'created_at': u'Thu Aug 21 21:50:45 +0000 2008', u'contributors_enabled': False, u'time_zone': u'Eastern Time (US & Canada)', u'protected': False, u'default_profile': False, u'is_translator': False}, u'geo': None, u'in_reply_to_user_id_str': None, u'possibly_sensitive': False, u'lang': u'en', u'created_at': u'Wed Oct 22 19:12:33 +0000 2014', u'in_reply_to_status_id_str': None, u'place': None, u'metadata': {u'iso_language_code': u'en', u'result_type': u'recent'}}, {u'contributors': None, u'truncated': False, u'text': u'#WPI admissions and #mashpee student experiencing augmented reality http://t.co/GTNMgf142e', u'in_reply_to_status_id': None, u'id': 524991171651977217, u'favorite_count': 2, u'source': u'<a href=\"http://www.apple.com\" rel=\"nofollow\">iOS</a>', u'retweeted': False, u'coordinates': None, u'entities': {u'symbols': [], u'user_mentions': [], u'hashtags': [{u'indices': [0, 4], u'text': u'WPI'}, {u'indices': [20, 28], u'text': u'mashpee'}], u'urls': [], u'media': [{u'expanded_url': u'http://twitter.com/mashpeetech/status/524991171651977217/photo/1', u'display_url': u'pic.twitter.com/GTNMgf142e', u'url': u'http://t.co/GTNMgf142e', u'media_url_https': u'https://pbs.twimg.com/media/B0kksF1IUAERAsN.jpg', u'id_str': u'524991171463237633', u'sizes': {u'small': {u'h': 253, u'resize': u'fit', u'w': 340}, u'large': {u'h': 764, u'resize': u'fit', u'w': 1024}, u'medium': {u'h': 447, u'resize': u'fit', u'w': 600}, u'thumb': {u'h': 150, u'resize': u'crop', u'w': 150}}, u'indices': [68, 90], u'type': u'photo', u'id': 524991171463237633, u'media_url': u'http://pbs.twimg.com/media/B0kksF1IUAERAsN.jpg'}]}, u'in_reply_to_screen_name': None, u'in_reply_to_user_id': None, u'retweet_count': 1, u'id_str': u'524991171651977217', u'favorited': False, u'user': {u'follow_request_sent': False, u'profile_use_background_image': True, u'profile_text_color': u'333333', u'default_profile_image': False, u'id': 2172352394, u'profile_background_image_url_https': u'https://abs.twimg.com/images/themes/theme1/bg.png', u'verified': False, u'profile_location': None, u'profile_image_url_https': u'https://pbs.twimg.com/profile_images/378800000688870983/410538307a21fcc736482abf3ec80a05_normal.jpeg', u'profile_sidebar_fill_color': u'DDEEF6', u'entities': {u'url': {u'urls': [{u'url': u'http://t.co/8kDa3napXQ', u'indices': [0, 22], u'expanded_url': u'http://mashpeetech.com', u'display_url': u'mashpeetech.com'}]}, u'description': {u'urls': []}}, u'followers_count': 92, u'profile_sidebar_border_color': u'C0DEED', u'id_str': u'2172352394', u'profile_background_color': u'C0DEED', u'listed_count': 1, u'is_translation_enabled': False, u'utc_offset': None, u'statuses_count': 195, u'description': u'The Mashpee Technology Center offers innovative Technology and Engineering courses to the students of Mashpee Public Schools', u'friends_count': 80, u'location': u'', u'profile_link_color': u'0084B4', u'profile_image_url': u'http://pbs.twimg.com/profile_images/378800000688870983/410538307a21fcc736482abf3ec80a05_normal.jpeg', u'following': False, u'geo_enabled': False, u'profile_banner_url': u'https://pbs.twimg.com/profile_banners/2172352394/1392480018', u'profile_background_image_url': u'http://abs.twimg.com/images/themes/theme1/bg.png', u'name': u'Mashpeetech', u'lang': u'en', u'profile_background_tile': False, u'favourites_count': 18, u'screen_name': u'mashpeetech', u'notifications': False, u'url': u'http://t.co/8kDa3napXQ', u'created_at': u'Sun Nov 03 15:33:57 +0000 2013', u'contributors_enabled': False, u'time_zone': None, u'protected': False, u'default_profile': True, u'is_translator': False}, u'geo': None, u'in_reply_to_user_id_str': None, u'possibly_sensitive': False, u'lang': u'en', u'created_at': u'Wed Oct 22 18:30:23 +0000 2014', u'in_reply_to_status_id_str': None, u'place': None, u'metadata': {u'iso_language_code': u'en', u'result_type': u'recent'}}, {u'contributors': None, u'truncated': False, u'text': u'Join the fun for B term! #wpi http://t.co/ZgQain8CQ9', u'in_reply_to_status_id': None, u'id': 524990571132514304, u'favorite_count': 0, u'source': u'<a href=\"http://twitter.com\" rel=\"nofollow\">Twitter Web Client</a>', u'retweeted': False, u'coordinates': None, u'entities': {u'symbols': [], u'user_mentions': [], u'hashtags': [{u'indices': [25, 29], u'text': u'wpi'}], u'urls': [], u'media': [{u'expanded_url': u'http://twitter.com/WPIAdvising/status/524990571132514304/photo/1', u'display_url': u'pic.twitter.com/ZgQain8CQ9', u'url': u'http://t.co/ZgQain8CQ9', u'media_url_https': u'https://pbs.twimg.com/media/B0kkJGtIYAErWs9.jpg', u'id_str': u'524990570402701313', u'sizes': {u'small': {u'h': 480, u'resize': u'fit', u'w': 340}, u'large': {u'h': 768, u'resize': u'fit', u'w': 543}, u'medium': {u'h': 768, u'resize': u'fit', u'w': 543}, u'thumb': {u'h': 150, u'resize': u'crop', u'w': 150}}, u'indices': [30, 52], u'type': u'photo', u'id': 524990570402701313, u'media_url': u'http://pbs.twimg.com/media/B0kkJGtIYAErWs9.jpg'}]}, u'in_reply_to_screen_name': None, u'in_reply_to_user_id': None, u'retweet_count': 0, u'id_str': u'524990571132514304', u'favorited': False, u'user': {u'follow_request_sent': False, u'profile_use_background_image': True, u'profile_text_color': u'333333', u'default_profile_image': False, u'id': 262277756, u'profile_background_image_url_https': u'https://pbs.twimg.com/profile_background_images/432976475113807872/7i-ItCd4.jpeg', u'verified': False, u'profile_location': None, u'profile_image_url_https': u'https://pbs.twimg.com/profile_images/432956875059900416/S4uZlorc_normal.jpeg', u'profile_sidebar_fill_color': u'DDEEF6', u'entities': {u'url': {u'urls': [{u'url': u'http://t.co/HjoJpFmijt', u'indices': [0, 22], u'expanded_url': u'http://www.wpi.edu/+OAA', u'display_url': u'wpi.edu/+OAA'}]}, u'description': {u'urls': []}}, u'followers_count': 178, u'profile_sidebar_border_color': u'000000', u'id_str': u'262277756', u'profile_background_color': u'B2B7BB', u'listed_count': 2, u'is_translation_enabled': False, u'utc_offset': -18000, u'statuses_count': 238, u'description': u'Academic Advising information for all Undergraduate students at WPI!', u'friends_count': 123, u'location': u'Worcester, MA', u'profile_link_color': u'C41230', u'profile_image_url': u'http://pbs.twimg.com/profile_images/432956875059900416/S4uZlorc_normal.jpeg', u'following': True, u'geo_enabled': False, u'profile_banner_url': u'https://pbs.twimg.com/profile_banners/262277756/1392059956', u'profile_background_image_url': u'http://pbs.twimg.com/profile_background_images/432976475113807872/7i-ItCd4.jpeg', u'name': u'WPI AcademicAdvising', u'lang': u'en', u'profile_background_tile': True, u'favourites_count': 1, u'screen_name': u'WPIAdvising', u'notifications': False, u'url': u'http://t.co/HjoJpFmijt', u'created_at': u'Mon Mar 07 18:52:47 +0000 2011', u'contributors_enabled': False, u'time_zone': u'Quito', u'protected': False, u'default_profile': False, u'is_translator': False}, u'geo': None, u'in_reply_to_user_id_str': None, u'possibly_sensitive': False, u'lang': u'en', u'created_at': u'Wed Oct 22 18:28:00 +0000 2014', u'in_reply_to_status_id_str': None, u'place': None, u'metadata': {u'iso_language_code': u'en', u'result_type': u'recent'}}, {u'contributors': None, u'truncated': False, u'text': u'RT @martyluttrell: Two Left rockin theWPI Campus Center #WPI http://t.co/wFin6OdzXz', u'in_reply_to_status_id': None, u'id': 524988648723603456, u'favorite_count': 0, u'source': u'<a href=\"http://twitter.com\" rel=\"nofollow\">Twitter Web Client</a>', u'retweeted': False, u'coordinates': None, u'entities': {u'symbols': [], u'user_mentions': [{u'id': 240967634, u'indices': [3, 17], u'id_str': u'240967634', u'screen_name': u'martyluttrell', u'name': u'Marty Luttrell'}], u'hashtags': [{u'indices': [56, 60], u'text': u'WPI'}], u'urls': [], u'media': [{u'source_status_id_str': u'524958684783190017', u'expanded_url': u'http://twitter.com/martyluttrell/status/524958684783190017/photo/1', u'display_url': u'pic.twitter.com/wFin6OdzXz', u'url': u'http://t.co/wFin6OdzXz', u'media_url_https': u'https://pbs.twimg.com/media/B0kHJG5CUAEelVo.jpg', u'source_status_id': 524958684783190017, u'id_str': u'524958684615430145', u'sizes': {u'small': {u'h': 255, u'resize': u'fit', u'w': 340}, u'large': {u'h': 426, u'resize': u'fit', u'w': 568}, u'medium': {u'h': 426, u'resize': u'fit', u'w': 568}, u'thumb': {u'h': 150, u'resize': u'crop', u'w': 150}}, u'indices': [61, 83], u'type': u'photo', u'id': 524958684615430145, u'media_url': u'http://pbs.twimg.com/media/B0kHJG5CUAEelVo.jpg'}]}, u'in_reply_to_screen_name': None, u'in_reply_to_user_id': None, u'retweet_count': 1, u'id_str': u'524988648723603456', u'favorited': False, u'retweeted_status': {u'contributors': None, u'truncated': False, u'text': u'Two Left rockin theWPI Campus Center #WPI http://t.co/wFin6OdzXz', u'in_reply_to_status_id': None, u'id': 524958684783190017, u'favorite_count': 1, u'source': u'<a href=\"http://www.apple.com\" rel=\"nofollow\">Camera on iOS</a>', u'retweeted': False, u'coordinates': None, u'entities': {u'symbols': [], u'user_mentions': [], u'hashtags': [{u'indices': [37, 41], u'text': u'WPI'}], u'urls': [], u'media': [{u'expanded_url': u'http://twitter.com/martyluttrell/status/524958684783190017/photo/1', u'display_url': u'pic.twitter.com/wFin6OdzXz', u'url': u'http://t.co/wFin6OdzXz', u'media_url_https': u'https://pbs.twimg.com/media/B0kHJG5CUAEelVo.jpg', u'id_str': u'524958684615430145', u'sizes': {u'small': {u'h': 255, u'resize': u'fit', u'w': 340}, u'large': {u'h': 426, u'resize': u'fit', u'w': 568}, u'medium': {u'h': 426, u'resize': u'fit', u'w': 568}, u'thumb': {u'h': 150, u'resize': u'crop', u'w': 150}}, u'indices': [42, 64], u'type': u'photo', u'id': 524958684615430145, u'media_url': u'http://pbs.twimg.com/media/B0kHJG5CUAEelVo.jpg'}]}, u'in_reply_to_screen_name': None, u'in_reply_to_user_id': None, u'retweet_count': 1, u'id_str': u'524958684783190017', u'favorited': False, u'user': {u'follow_request_sent': False, u'profile_use_background_image': False, u'profile_text_color': u'000000', u'default_profile_image': False, u'id': 240967634, u'profile_background_image_url_https': u'https://abs.twimg.com/images/themes/theme1/bg.png', u'verified': False, u'profile_location': None, u'profile_image_url_https': u'https://pbs.twimg.com/profile_images/494225606540681216/lBCm95Uo_normal.jpeg', u'profile_sidebar_fill_color': u'000000', u'entities': {u'description': {u'urls': []}}, u'followers_count': 185, u'profile_sidebar_border_color': u'000000', u'id_str': u'240967634', u'profile_background_color': u'000000', u'listed_count': 2, u'is_translation_enabled': False, u'utc_offset': -14400, u'statuses_count': 481, u'description': u'Digital Communications Manager at Worcester Polytechnic Institute. Interests include performing vocals and guitar, flyfishing and other outdoor pursuits.', u'friends_count': 89, u'location': u'Worcester, MA', u'profile_link_color': u'0074B3', u'profile_image_url': u'http://pbs.twimg.com/profile_images/494225606540681216/lBCm95Uo_normal.jpeg', u'following': False, u'geo_enabled': False, u'profile_banner_url': u'https://pbs.twimg.com/profile_banners/240967634/1403285089', u'profile_background_image_url': u'http://abs.twimg.com/images/themes/theme1/bg.png', u'name': u'Marty Luttrell', u'lang': u'en', u'profile_background_tile': False, u'favourites_count': 76, u'screen_name': u'martyluttrell', u'notifications': False, u'url': None, u'created_at': u'Fri Jan 21 04:13:43 +0000 2011', u'contributors_enabled': False, u'time_zone': u'Eastern Time (US & Canada)', u'protected': False, u'default_profile': False, u'is_translator': False}, u'geo': None, u'in_reply_to_user_id_str': None, u'possibly_sensitive': False, u'lang': u'en', u'created_at': u'Wed Oct 22 16:21:18 +0000 2014', u'in_reply_to_status_id_str': None, u'place': None, u'metadata': {u'iso_language_code': u'en', u'result_type': u'recent'}}, u'user': {u'follow_request_sent': False, u'profile_use_background_image': True, u'profile_text_color': u'333333', u'default_profile_image': False, u'id': 1131934922, u'profile_background_image_url_https': u'https://abs.twimg.com/images/themes/theme1/bg.png', u'verified': False, u'profile_location': None, u'profile_image_url_https': u'https://pbs.twimg.com/profile_images/3180613075/3d9401d2a85197d7457a51131265f61c_normal.jpeg', u'profile_sidebar_fill_color': u'DDEEF6', u'entities': {u'url': {u'urls': [{u'url': u'http://t.co/kdZAVu0mJz', u'indices': [0, 22], u'expanded_url': u'http://wp.wpi.edu/dailyherd/', u'display_url': u'wp.wpi.edu/dailyherd/'}]}, u'description': {u'urls': []}}, u'followers_count': 371, u'profile_sidebar_border_color': u'C0DEED', u'id_str': u'1131934922', u'profile_background_color': u'C0DEED', u'listed_count': 5, u'is_translation_enabled': False, u'utc_offset': -14400, u'statuses_count': 448, u'description': u\"The Daily Herd is WPI's internal communications publication. Find out what's new in and around the WPI community.\", u'friends_count': 299, u'location': u'Worcester, MA', u'profile_link_color': u'686E70', u'profile_image_url': u'http://pbs.twimg.com/profile_images/3180613075/3d9401d2a85197d7457a51131265f61c_normal.jpeg', u'following': True, u'geo_enabled': False, u'profile_banner_url': u'https://pbs.twimg.com/profile_banners/1131934922/1406998783', u'profile_background_image_url': u'http://abs.twimg.com/images/themes/theme1/bg.png', u'name': u'WPI Daily Herd', u'lang': u'en', u'profile_background_tile': False, u'favourites_count': 25, u'screen_name': u'wpidailyherd', u'notifications': False, u'url': u'http://t.co/kdZAVu0mJz', u'created_at': u'Tue Jan 29 19:33:14 +0000 2013', u'contributors_enabled': False, u'time_zone': u'Eastern Time (US & Canada)', u'protected': False, u'default_profile': False, u'is_translator': False}, u'geo': None, u'in_reply_to_user_id_str': None, u'possibly_sensitive': False, u'lang': u'en', u'created_at': u'Wed Oct 22 18:20:22 +0000 2014', u'in_reply_to_status_id_str': None, u'place': None, u'metadata': {u'iso_language_code': u'en', u'result_type': u'recent'}}, {u'contributors': None, u'truncated': False, u'text': u'Interested in applying for a faculty position? \"Preparing your Academic Job Application Packet\" by Prof Sarah Olson 10/29, 4 pm, SH 203 #WPI', u'in_reply_to_status_id': None, u'id': 524985067035451392, u'favorite_count': 0, u'source': u'<a href=\"http://www.hootsuite.com\" rel=\"nofollow\">Hootsuite</a>', u'retweeted': False, u'coordinates': None, u'entities': {u'symbols': [], u'user_mentions': [], u'hashtags': [{u'indices': [136, 140], u'text': u'WPI'}], u'urls': []}, u'in_reply_to_screen_name': None, u'in_reply_to_user_id': None, u'retweet_count': 0, u'id_str': u'524985067035451392', u'favorited': False, u'user': {u'follow_request_sent': False, u'profile_use_background_image': True, u'profile_text_color': u'333333', u'default_profile_image': False, u'id': 2355435862, u'profile_background_image_url_https': u'https://abs.twimg.com/images/themes/theme1/bg.png', u'verified': False, u'profile_location': None, u'profile_image_url_https': u'https://pbs.twimg.com/profile_images/492349717007704066/arQWIm8B_normal.jpeg', u'profile_sidebar_fill_color': u'DDEEF6', u'entities': {u'url': {u'urls': [{u'url': u'http://t.co/chqDSHBiWD', u'indices': [0, 22], u'expanded_url': u'http://wp.wpi.edu/terric', u'display_url': u'wp.wpi.edu/terric'}]}, u'description': {u'urls': []}}, u'followers_count': 220, u'profile_sidebar_border_color': u'C0DEED', u'id_str': u'2355435862', u'profile_background_color': u'C0DEED', u'listed_count': 3, u'is_translation_enabled': False, u'utc_offset': None, u'statuses_count': 391, u'description': u'Dean of Graduate Studies at Worcester Polytechnic Institute, Chemical Engineer, dancer, and mom; #HigherEd; #WPI, #womeninSTEM; tweets my own', u'friends_count': 237, u'location': u'', u'profile_link_color': u'0084B4', u'profile_image_url': u'http://pbs.twimg.com/profile_images/492349717007704066/arQWIm8B_normal.jpeg', u'following': True, u'geo_enabled': False, u'profile_banner_url': u'https://pbs.twimg.com/profile_banners/2355435862/1409832875', u'profile_background_image_url': u'http://abs.twimg.com/images/themes/theme1/bg.png', u'name': u'Terri Camesano', u'lang': u'en', u'profile_background_tile': False, u'favourites_count': 170, u'screen_name': u'TerriCamesano', u'notifications': False, u'url': u'http://t.co/chqDSHBiWD', u'created_at': u'Thu Feb 20 23:13:37 +0000 2014', u'contributors_enabled': False, u'time_zone': None, u'protected': False, u'default_profile': True, u'is_translator': False}, u'geo': None, u'in_reply_to_user_id_str': None, u'lang': u'en', u'created_at': u'Wed Oct 22 18:06:08 +0000 2014', u'in_reply_to_status_id_str': None, u'place': None, u'metadata': {u'iso_language_code': u'en', u'result_type': u'recent'}}, {u'contributors': None, u'truncated': False, u'text': u'Two Left rockin theWPI Campus Center #WPI http://t.co/wFin6OdzXz', u'in_reply_to_status_id': None, u'id': 524958684783190017, u'favorite_count': 1, u'source': u'<a href=\"http://www.apple.com\" rel=\"nofollow\">Camera on iOS</a>', u'retweeted': False, u'coordinates': None, u'entities': {u'symbols': [], u'user_mentions': [], u'hashtags': [{u'indices': [37, 41], u'text': u'WPI'}], u'urls': [], u'media': [{u'expanded_url': u'http://twitter.com/martyluttrell/status/524958684783190017/photo/1', u'display_url': u'pic.twitter.com/wFin6OdzXz', u'url': u'http://t.co/wFin6OdzXz', u'media_url_https': u'https://pbs.twimg.com/media/B0kHJG5CUAEelVo.jpg', u'id_str': u'524958684615430145', u'sizes': {u'small': {u'h': 255, u'resize': u'fit', u'w': 340}, u'large': {u'h': 426, u'resize': u'fit', u'w': 568}, u'medium': {u'h': 426, u'resize': u'fit', u'w': 568}, u'thumb': {u'h': 150, u'resize': u'crop', u'w': 150}}, u'indices': [42, 64], u'type': u'photo', u'id': 524958684615430145, u'media_url': u'http://pbs.twimg.com/media/B0kHJG5CUAEelVo.jpg'}]}, u'in_reply_to_screen_name': None, u'in_reply_to_user_id': None, u'retweet_count': 1, u'id_str': u'524958684783190017', u'favorited': False, u'user': {u'follow_request_sent': False, u'profile_use_background_image': False, u'profile_text_color': u'000000', u'default_profile_image': False, u'id': 240967634, u'profile_background_image_url_https': u'https://abs.twimg.com/images/themes/theme1/bg.png', u'verified': False, u'profile_location': None, u'profile_image_url_https': u'https://pbs.twimg.com/profile_images/494225606540681216/lBCm95Uo_normal.jpeg', u'profile_sidebar_fill_color': u'000000', u'entities': {u'description': {u'urls': []}}, u'followers_count': 185, u'profile_sidebar_border_color': u'000000', u'id_str': u'240967634', u'profile_background_color': u'000000', u'listed_count': 2, u'is_translation_enabled': False, u'utc_offset': -14400, u'statuses_count': 481, u'description': u'Digital Communications Manager at Worcester Polytechnic Institute. Interests include performing vocals and guitar, flyfishing and other outdoor pursuits.', u'friends_count': 89, u'location': u'Worcester, MA', u'profile_link_color': u'0074B3', u'profile_image_url': u'http://pbs.twimg.com/profile_images/494225606540681216/lBCm95Uo_normal.jpeg', u'following': False, u'geo_enabled': False, u'profile_banner_url': u'https://pbs.twimg.com/profile_banners/240967634/1403285089', u'profile_background_image_url': u'http://abs.twimg.com/images/themes/theme1/bg.png', u'name': u'Marty Luttrell', u'lang': u'en', u'profile_background_tile': False, u'favourites_count': 76, u'screen_name': u'martyluttrell', u'notifications': False, u'url': None, u'created_at': u'Fri Jan 21 04:13:43 +0000 2011', u'contributors_enabled': False, u'time_zone': u'Eastern Time (US & Canada)', u'protected': False, u'default_profile': False, u'is_translator': False}, u'geo': None, u'in_reply_to_user_id_str': None, u'possibly_sensitive': False, u'lang': u'en', u'created_at': u'Wed Oct 22 16:21:18 +0000 2014', u'in_reply_to_status_id_str': None, u'place': None, u'metadata': {u'iso_language_code': u'en', u'result_type': u'recent'}}, {u'contributors': None, u'truncated': False, u'text': u'Setting up for lunch gig at #WPI campus center. #twoleft #bigfootvideo http://t.co/nosuCxrhiJ', u'in_reply_to_status_id': None, u'id': 524952251560132608, u'favorite_count': 0, u'source': u'<a href=\"http://instagram.com\" rel=\"nofollow\">Instagram</a>', u'retweeted': False, u'coordinates': None, u'entities': {u'symbols': [], u'user_mentions': [], u'hashtags': [{u'indices': [28, 32], u'text': u'WPI'}, {u'indices': [48, 56], u'text': u'twoleft'}, {u'indices': [57, 70], u'text': u'bigfootvideo'}], u'urls': [{u'url': u'http://t.co/nosuCxrhiJ', u'indices': [71, 93], u'expanded_url': u'http://instagram.com/p/udegqBtIgP/', u'display_url': u'instagram.com/p/udegqBtIgP/'}]}, u'in_reply_to_screen_name': None, u'in_reply_to_user_id': None, u'retweet_count': 0, u'id_str': u'524952251560132608', u'favorited': False, u'user': {u'follow_request_sent': False, u'profile_use_background_image': True, u'profile_text_color': u'333333', u'default_profile_image': False, u'id': 35388742, u'profile_background_image_url_https': u'https://abs.twimg.com/images/themes/theme1/bg.png', u'verified': False, u'profile_location': None, u'profile_image_url_https': u'https://pbs.twimg.com/profile_images/1153931439/bilde_normal.jpeg', u'profile_sidebar_fill_color': u'DDEEF6', u'entities': {u'url': {u'urls': [{u'url': u'http://t.co/CBwWMm1Vj7', u'indices': [0, 22], u'expanded_url': u'http://www.devshirme.com', u'display_url': u'devshirme.com'}]}, u'description': {u'urls': []}}, u'followers_count': 398, u'profile_sidebar_border_color': u'C0DEED', u'id_str': u'35388742', u'profile_background_color': u'C0DEED', u'listed_count': 13, u'is_translation_enabled': False, u'utc_offset': -14400, u'statuses_count': 794, u'description': u'Husband, Father, Greek Orthodox Priest', u'friends_count': 574, u'location': u'Worcester, MA', u'profile_link_color': u'0084B4', u'profile_image_url': u'http://pbs.twimg.com/profile_images/1153931439/bilde_normal.jpeg', u'following': False, u'geo_enabled': False, u'profile_background_image_url': u'http://abs.twimg.com/images/themes/theme1/bg.png', u'name': u'Gregory Christakos', u'lang': u'en', u'profile_background_tile': False, u'favourites_count': 428, u'screen_name': u'FrXtakos', u'notifications': False, u'url': u'http://t.co/CBwWMm1Vj7', u'created_at': u'Sun Apr 26 03:20:13 +0000 2009', u'contributors_enabled': False, u'time_zone': u'Eastern Time (US & Canada)', u'protected': False, u'default_profile': True, u'is_translator': False}, u'geo': None, u'in_reply_to_user_id_str': None, u'possibly_sensitive': False, u'lang': u'en', u'created_at': u'Wed Oct 22 15:55:44 +0000 2014', u'in_reply_to_status_id_str': None, u'place': None, u'metadata': {u'iso_language_code': u'en', u'result_type': u'recent'}}, {u'contributors': None, u'truncated': False, u'text': u\"Bracken's Late Goal Keys Women's Soccer's 1-1 Draw With Smith http://t.co/fq1bTa5rfy #d3soc #WPI\", u'in_reply_to_status_id': None, u'id': 524773565129031680, u'favorite_count': 0, u'source': u'<a href=\"http://www.hootsuite.com\" rel=\"nofollow\">Hootsuite</a>', u'retweeted': False, u'coordinates': None, u'entities': {u'symbols': [], u'user_mentions': [], u'hashtags': [{u'indices': [85, 91], u'text': u'd3soc'}, {u'indices': [92, 96], u'text': u'WPI'}], u'urls': [{u'url': u'http://t.co/fq1bTa5rfy', u'indices': [62, 84], u'expanded_url': u'http://bit.ly/1vKq1DR', u'display_url': u'bit.ly/1vKq1DR'}]}, u'in_reply_to_screen_name': None, u'in_reply_to_user_id': None, u'retweet_count': 0, u'id_str': u'524773565129031680', u'favorited': False, u'user': {u'follow_request_sent': False, u'profile_use_background_image': True, u'profile_text_color': u'333333', u'default_profile_image': False, u'id': 15937427, u'profile_background_image_url_https': u'https://abs.twimg.com/images/themes/theme14/bg.gif', u'verified': False, u'profile_location': None, u'profile_image_url_https': u'https://pbs.twimg.com/profile_images/2869234056/1898d94ac789538ebe447b7d1c2c294d_normal.jpeg', u'profile_sidebar_fill_color': u'EFEFEF', u'entities': {u'url': {u'urls': [{u'url': u'http://t.co/KHgXFb3s3z', u'indices': [0, 22], u'expanded_url': u'http://athletics.wpi.edu', u'display_url': u'athletics.wpi.edu'}]}, u'description': {u'urls': []}}, u'followers_count': 1929, u'profile_sidebar_border_color': u'EEEEEE', u'id_str': u'15937427', u'profile_background_color': u'131516', u'listed_count': 45, u'is_translation_enabled': False, u'utc_offset': -14400, u'statuses_count': 10182, u'description': u'Worcester Polytechnic Institute athletics news, event, and score updates. For more information and conversation, follow @WPI.', u'friends_count': 176, u'location': u'Worcester, MA', u'profile_link_color': u'009999', u'profile_image_url': u'http://pbs.twimg.com/profile_images/2869234056/1898d94ac789538ebe447b7d1c2c294d_normal.jpeg', u'following': True, u'geo_enabled': False, u'profile_background_image_url': u'http://abs.twimg.com/images/themes/theme14/bg.gif', u'name': u'WPI Athletics', u'lang': u'en', u'profile_background_tile': True, u'favourites_count': 105, u'screen_name': u'WPIAthletics', u'notifications': False, u'url': u'http://t.co/KHgXFb3s3z', u'created_at': u'Thu Aug 21 21:50:45 +0000 2008', u'contributors_enabled': False, u'time_zone': u'Eastern Time (US & Canada)', u'protected': False, u'default_profile': False, u'is_translator': False}, u'geo': None, u'in_reply_to_user_id_str': None, u'possibly_sensitive': False, u'lang': u'en', u'created_at': u'Wed Oct 22 04:05:42 +0000 2014', u'in_reply_to_status_id_str': None, u'place': None, u'metadata': {u'iso_language_code': u'en', u'result_type': u'recent'}}, {u'contributors': None, u'truncated': False, u'text': u'Volleyball Downed in Three Sets by Visiting Springfield http://t.co/izevJouLGJ #d3vb #WPI', u'in_reply_to_status_id': None, u'id': 524773493096062976, u'favorite_count': 0, u'source': u'<a href=\"http://www.hootsuite.com\" rel=\"nofollow\">Hootsuite</a>', u'retweeted': False, u'coordinates': None, u'entities': {u'symbols': [], u'user_mentions': [], u'hashtags': [{u'indices': [79, 84], u'text': u'd3vb'}, {u'indices': [85, 89], u'text': u'WPI'}], u'urls': [{u'url': u'http://t.co/izevJouLGJ', u'indices': [56, 78], u'expanded_url': u'http://bit.ly/1rbGD26', u'display_url': u'bit.ly/1rbGD26'}]}, u'in_reply_to_screen_name': None, u'in_reply_to_user_id': None, u'retweet_count': 0, u'id_str': u'524773493096062976', u'favorited': False, u'user': {u'follow_request_sent': False, u'profile_use_background_image': True, u'profile_text_color': u'333333', u'default_profile_image': False, u'id': 15937427, u'profile_background_image_url_https': u'https://abs.twimg.com/images/themes/theme14/bg.gif', u'verified': False, u'profile_location': None, u'profile_image_url_https': u'https://pbs.twimg.com/profile_images/2869234056/1898d94ac789538ebe447b7d1c2c294d_normal.jpeg', u'profile_sidebar_fill_color': u'EFEFEF', u'entities': {u'url': {u'urls': [{u'url': u'http://t.co/KHgXFb3s3z', u'indices': [0, 22], u'expanded_url': u'http://athletics.wpi.edu', u'display_url': u'athletics.wpi.edu'}]}, u'description': {u'urls': []}}, u'followers_count': 1929, u'profile_sidebar_border_color': u'EEEEEE', u'id_str': u'15937427', u'profile_background_color': u'131516', u'listed_count': 45, u'is_translation_enabled': False, u'utc_offset': -14400, u'statuses_count': 10182, u'description': u'Worcester Polytechnic Institute athletics news, event, and score updates. For more information and conversation, follow @WPI.', u'friends_count': 176, u'location': u'Worcester, MA', u'profile_link_color': u'009999', u'profile_image_url': u'http://pbs.twimg.com/profile_images/2869234056/1898d94ac789538ebe447b7d1c2c294d_normal.jpeg', u'following': True, u'geo_enabled': False, u'profile_background_image_url': u'http://abs.twimg.com/images/themes/theme14/bg.gif', u'name': u'WPI Athletics', u'lang': u'en', u'profile_background_tile': True, u'favourites_count': 105, u'screen_name': u'WPIAthletics', u'notifications': False, u'url': u'http://t.co/KHgXFb3s3z', u'created_at': u'Thu Aug 21 21:50:45 +0000 2008', u'contributors_enabled': False, u'time_zone': u'Eastern Time (US & Canada)', u'protected': False, u'default_profile': False, u'is_translator': False}, u'geo': None, u'in_reply_to_user_id_str': None, u'possibly_sensitive': False, u'lang': u'en', u'created_at': u'Wed Oct 22 04:05:25 +0000 2014', u'in_reply_to_status_id_str': None, u'place': None, u'metadata': {u'iso_language_code': u'en', u'result_type': u'recent'}}, {u'contributors': None, u'truncated': False, u'text': u\"Bracken's Late Goal Keys Women's Soccer's 1-1 Draw With Smith http://t.co/mqzxfRY5Nm #d3soc #WPI\", u'in_reply_to_status_id': None, u'id': 524752432505425922, u'favorite_count': 0, u'source': u'<a href=\"http://twitterfeed.com\" rel=\"nofollow\">twitterfeed</a>', u'retweeted': False, u'coordinates': None, u'entities': {u'symbols': [], u'user_mentions': [], u'hashtags': [{u'indices': [85, 91], u'text': u'd3soc'}, {u'indices': [92, 96], u'text': u'WPI'}], u'urls': [{u'url': u'http://t.co/mqzxfRY5Nm', u'indices': [62, 84], u'expanded_url': u'http://bit.ly/1vKq1DR', u'display_url': u'bit.ly/1vKq1DR'}]}, u'in_reply_to_screen_name': None, u'in_reply_to_user_id': None, u'retweet_count': 0, u'id_str': u'524752432505425922', u'favorited': False, u'user': {u'follow_request_sent': False, u'profile_use_background_image': True, u'profile_text_color': u'333333', u'default_profile_image': False, u'id': 69644318, u'profile_background_image_url_https': u'https://abs.twimg.com/images/themes/theme14/bg.gif', u'verified': False, u'profile_location': None, u'profile_image_url_https': u'https://pbs.twimg.com/profile_images/3002976134/844d53e2119af0781e12a4f414944645_normal.jpeg', u'profile_sidebar_fill_color': u'EFEFEF', u'entities': {u'url': {u'urls': [{u'url': u'http://t.co/peaDEf5ejm', u'indices': [0, 22], u'expanded_url': u'http://athletics.wpi.edu/sports/wsoc/index', u'display_url': u'athletics.wpi.edu/sports/wsoc/in\\u2026'}]}, u'description': {u'urls': []}}, u'followers_count': 159, u'profile_sidebar_border_color': u'EEEEEE', u'id_str': u'69644318', u'profile_background_color': u'131516', u'listed_count': 3, u'is_translation_enabled': False, u'utc_offset': -14400, u'statuses_count': 738, u'description': u\"WPI Women's Soccer news, announcements, updates, and results. Follow @WPIAthletics for all WPI Athletics updates.\", u'friends_count': 1, u'location': u'Worcester, MA', u'profile_link_color': u'009999', u'profile_image_url': u'http://pbs.twimg.com/profile_images/3002976134/844d53e2119af0781e12a4f414944645_normal.jpeg', u'following': True, u'geo_enabled': False, u'profile_background_image_url': u'http://abs.twimg.com/images/themes/theme14/bg.gif', u'name': u\"WPI Women's Soccer\", u'lang': u'en', u'profile_background_tile': True, u'favourites_count': 8, u'screen_name': u'WPIWSoccer', u'notifications': False, u'url': u'http://t.co/peaDEf5ejm', u'created_at': u'Fri Aug 28 17:29:20 +0000 2009', u'contributors_enabled': False, u'time_zone': u'Eastern Time (US & Canada)', u'protected': False, u'default_profile': False, u'is_translator': False}, u'geo': None, u'in_reply_to_user_id_str': None, u'possibly_sensitive': False, u'lang': u'en', u'created_at': u'Wed Oct 22 02:41:44 +0000 2014', u'in_reply_to_status_id_str': None, u'place': None, u'metadata': {u'iso_language_code': u'en', u'result_type': u'recent'}}]}\n"
       ]
      }
     ],
     "prompt_number": 48
    },
    {
     "cell_type": "code",
     "collapsed": false,
     "input": [
      "for item in world_trends[0]['trends']:\n",
      "    print item['name']"
     ],
     "language": "python",
     "metadata": {},
     "outputs": [
      {
       "output_type": "stream",
       "stream": "stdout",
       "text": [
        "#BryantAndNashNewVideo\n",
        "#OttawaShooting\n",
        "#ListenToGhostOnYouTube\n",
        "#ReContraDaPara\n",
        "#\u0634\u064a_\u062c\u0645\u064a\u0644_\u0628\u062d\u0631\u0641_\u0627\u0644\u0645\u064a\u0645\n",
        "Nathan Cirillo\n",
        "Chris Huhne\n",
        "The 100 Back Today\n",
        "Michael Zehaf-Bibeau\n",
        "Ba\u015fak\u015fehir\n"
       ]
      }
     ],
     "prompt_number": 23
    },
    {
     "cell_type": "code",
     "collapsed": false,
     "input": [
      "nonhashtrends=[]\n",
      "for trend in us_trends[0]['trends']+world_trends[0]['trends']:\n",
      "    #print trend['name']\n",
      "    if trend['name'].find('#') !=0:\n",
      "        nonhashtrends.append(trend['name'])\n",
      "nonhashtrends=list(set(nonhashtrends))\n",
      "print nonhashtrends"
     ],
     "language": "python",
     "metadata": {},
     "outputs": [
      {
       "output_type": "stream",
       "stream": "stdout",
       "text": [
        "[u'Ba\\u015fak\\u015fehir', u'Nathan Cirillo', u'Michael Zehaf-Bibeau', u'Ben Bradlee', u'Makonnen', u'Chris Huhne', u'\"Tuesday\"', u'The 100 Back Today']\n"
       ]
      }
     ],
     "prompt_number": 40
    },
    {
     "cell_type": "code",
     "collapsed": false,
     "input": [
      "#http://www.mediawiki.org/wiki/API:Main_page\n",
      "import requests\n",
      "from urllib import quote\n",
      "WIKIPEDIA='http://en.wikipedia.org/w/api.php'\n",
      "querydict={'action':'query', 'format':'json', \n",
      "           'prop':'revisions', 'rvprop':'content', \n",
      "           'titles':nonhashtrends[1]}\n",
      "querydict={k:quote(v) for k, v in querydict.items()}\n",
      "print querydict"
     ],
     "language": "python",
     "metadata": {},
     "outputs": [
      {
       "output_type": "stream",
       "stream": "stdout",
       "text": [
        "{'action': 'query', 'format': 'json', 'titles': 'Nathan%20Cirillo', 'rvprop': 'content', 'prop': 'revisions'}\n"
       ]
      }
     ],
     "prompt_number": 41
    },
    {
     "cell_type": "code",
     "collapsed": false,
     "input": [
      "query_string = \"?\"+\"&\".join([k+\"=\"+v for k,v in querydict.items()])\n",
      "print query_string\n",
      "r = requests.get(WIKIPEDIA+query_string)"
     ],
     "language": "python",
     "metadata": {},
     "outputs": [
      {
       "output_type": "stream",
       "stream": "stdout",
       "text": [
        "?action=query&format=json&titles=Ben%20Bradlee&rvprop=content&prop=revisions\n"
       ]
      }
     ],
     "prompt_number": 35
    },
    {
     "cell_type": "code",
     "collapsed": false,
     "input": [
      "r.json()"
     ],
     "language": "python",
     "metadata": {},
     "outputs": [
      {
       "metadata": {},
       "output_type": "pyout",
       "prompt_number": 37,
       "text": [
        "{u'query': {u'pages': {u'482090': {u'ns': 0,\n",
        "    u'pageid': 482090,\n",
        "    u'revisions': [{u'*': u'#redirect [[Benjamin C. Bradlee]]',\n",
        "      u'contentformat': u'text/x-wiki',\n",
        "      u'contentmodel': u'wikitext'}],\n",
        "    u'title': u'Ben Bradlee'}}}}"
       ]
      }
     ],
     "prompt_number": 37
    },
    {
     "cell_type": "code",
     "collapsed": false,
     "input": [
      "r.status_code"
     ],
     "language": "python",
     "metadata": {},
     "outputs": [
      {
       "metadata": {},
       "output_type": "pyout",
       "prompt_number": 38,
       "text": [
        "200"
       ]
      }
     ],
     "prompt_number": 38
    },
    {
     "cell_type": "code",
     "collapsed": false,
     "input": [
      "q = '#dst4l' \n",
      "\n",
      "count = 100\n",
      "\n",
      "# See https://dev.twitter.com/docs/api/1.1/get/search/tweets\n",
      "\n",
      "search_results = twitter_api.search.tweets(q=q, count=count)\n",
      "\n",
      "statuses = search_results['statuses']\n",
      "print \"\\n\".join([e['text'] for e in statuses])"
     ],
     "language": "python",
     "metadata": {},
     "outputs": [
      {
       "output_type": "stream",
       "stream": "stdout",
       "text": [
        "#dst4l hello class?\n",
        "another #DST4L training today!\n",
        "First day of Python training in #dst4l w/ scatter plot example thanks to James Damon http://t.co/FaSdeh8i16\n",
        "Learning Python with @rahuldave.  Loved learning why we'd use enumerate versus a list.  Favorite thing I've learned so far at #DST4L.\n",
        "\u2614 I'm laughing at \u2601\u2601\u2601. So dark up above. The \u2600's in my \ud83d\udc97. And I'm ready for Python training with my #DST4L colleagues. \u2614\n",
        "RT @Fernsebner: A day of #GitHub, starting with #cats. #DST4L http://t.co/atK3Lnc25T\n",
        "GitHub\u2019s @kdaigle explains the difference between a branch and a fork to a room full of #librarians. #DST4L http://t.co/zxcGECKjbO\n",
        "Exploring &amp; learning how to use #Git &amp; #GitHub with @kdaigle. Made more fun with talk of cats &amp; cookies. #DST4L\n",
        "RT @graving: librarians getting punchy with our GitHub training day #DST4L http://t.co/VnXLTaKcYW\n",
        "librarians getting punchy with our GitHub training day #DST4L http://t.co/VnXLTaKcYW\n",
        "RT @Fernsebner: A day of #GitHub, starting with #cats. #DST4L http://t.co/atK3Lnc25T\n",
        "Sad that I wasn't quick enough to get a \"Yes we code\" octocat sticker but enjoying #DST4L GitHub training nonetheless.\n",
        "The #octocats of my people. #DST4L http://t.co/xJFTOR1llE\n",
        "Learning about #GIT from @kdaigle on an early saturday morning during #DST4L #Ineedmorecoffee http://t.co/CookcMJqdw\n",
        "A day of #GitHub, starting with #cats. #DST4L http://t.co/atK3Lnc25T\n",
        "World of use cases coming to us for GitHub at all day #DST4L\n",
        "RT @booknetsirk: #GitHub Saturday is here! Looking forward to a day of training with @kdaigle and my #DST4L colleagues!\n",
        "@libcce starts off a day at #DST4L http://t.co/dr5YPVuQvW\n",
        "RT @booknetsirk: #GitHub Saturday is here! Looking forward to a day of training with @kdaigle and my #DST4L colleagues!\n",
        "#GitHub Saturday is here! Looking forward to a day of training with @kdaigle and my #DST4L colleagues!\n",
        "RT @libcce: Data Scientist Training for Librarians http://t.co/6h6fBcNnko meets @github this Saturday. Thanks to @kdaigle! #dst4l\n",
        "RT @libcce: Data Scientist Training for Librarians http://t.co/6h6fBcNnko meets @github this Saturday. Thanks to @kdaigle! #dst4l\n",
        "Data Scientist Training for Librarians http://t.co/6h6fBcNnko meets @github this Saturday. Thanks to @kdaigle! #dst4l\n"
       ]
      }
     ],
     "prompt_number": 47
    },
    {
     "cell_type": "code",
     "collapsed": false,
     "input": [
      "URLSTART=\"https://www.goodreads.com\"\n",
      "BESTBOOKS=\"/list/show/1.Best_Books_Ever?page=\"\n",
      "import time, requests\n",
      "for i in xrange(1,3):\n",
      "    bookurl=str(i)\n",
      "    stuff=requests.get(URLSTART+BESTBOOKS+bookurl)\n",
      "    filetowrite=\"page\"+ '%02d' % i\n",
      "    print \"FTW\", filetowrite\n",
      "    fd=open(filetowrite+\".html\",\"w\")\n",
      "    fd.write(stuff.text.encode('utf-8'))\n",
      "    fd.close()\n",
      "    time.sleep(2)"
     ],
     "language": "python",
     "metadata": {},
     "outputs": [
      {
       "output_type": "stream",
       "stream": "stdout",
       "text": [
        "FTW page01\n",
        "FTW"
       ]
      },
      {
       "output_type": "stream",
       "stream": "stdout",
       "text": [
        " page02\n"
       ]
      }
     ],
     "prompt_number": 49
    },
    {
     "cell_type": "code",
     "collapsed": false,
     "input": [
      "from pyquery import PyQuery as pq\n",
      "bookdict={}\n",
      "for i in xrange(1,3):\n",
      "    books=[]\n",
      "    stri = '%02d' % i\n",
      "    filetoread=\"page\"+ stri + '.html'\n",
      "    print \"FTW\", filetoread\n",
      "    d=pq(filename=filetoread)\n",
      "    for e in d('.bookTitle'):\n",
      "        books.append(pq(e).attr.href)\n",
      "    print books[:10]\n",
      "    bookdict[stri]=books\n",
      "    fd=open(\"list\"+stri+\".txt\",\"w\")\n",
      "    fd.write(\"\\n\".join(books))\n",
      "    fd.close()"
     ],
     "language": "python",
     "metadata": {},
     "outputs": [
      {
       "output_type": "stream",
       "stream": "stdout",
       "text": [
        "FTW page01.html\n",
        "['/book/show/2767052-the-hunger-games', '/book/show/2.Harry_Potter_and_the_Order_of_the_Phoenix', '/book/show/41865.Twilight', '/book/show/2657.To_Kill_a_Mockingbird', '/book/show/1885.Pride_and_Prejudice', '/book/show/18405.Gone_with_the_Wind', '/book/show/11127.The_Chronicles_of_Narnia', '/book/show/7613.Animal_Farm', '/book/show/370493.The_Giving_Tree', '/book/show/11.The_Hitchhiker_s_Guide_to_the_Galaxy']"
       ]
      },
      {
       "output_type": "stream",
       "stream": "stdout",
       "text": [
        "\n",
        "FTW page02.html\n",
        "['/book/show/24583.The_Adventures_of_Tom_Sawyer', '/book/show/34.The_Fellowship_of_the_Ring', '/book/show/6310.Charlie_and_the_Chocolate_Factory', '/book/show/4948.The_Very_Hungry_Caterpillar', '/book/show/9717.The_Unbearable_Lightness_of_Being', '/book/show/6900.Tuesdays_with_Morrie', '/book/show/1423.The_Compleat_Works_of_Wllm_Shkspr', '/book/show/12296.The_Scarlet_Letter', '/book/show/256008.Lonesome_Dove', '/book/show/10365.Where_the_Red_Fern_Grows']"
       ]
      },
      {
       "output_type": "stream",
       "stream": "stdout",
       "text": [
        "\n"
       ]
      }
     ],
     "prompt_number": 51
    },
    {
     "cell_type": "code",
     "collapsed": false,
     "input": [],
     "language": "python",
     "metadata": {},
     "outputs": []
    }
   ],
   "metadata": {}
  }
 ]
}