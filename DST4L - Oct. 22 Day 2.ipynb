{
 "metadata": {
  "name": "",
  "signature": "sha256:2b750eea50337483663fb991490a984a9573ec5c36debc7d50df1d44f62ab363"
 },
 "nbformat": 3,
 "nbformat_minor": 0,
 "worksheets": [
  {
   "cells": [
    {
     "cell_type": "markdown",
     "metadata": {},
     "source": [
      "    add libraries "
     ]
    },
    {
     "cell_type": "code",
     "collapsed": false,
     "input": [
      "%matplotlib inline\n",
      "import numpy as np\n",
      "import matplotlib.pyplot as plt\n",
      "import pandas as pd\n",
      "import seaborn as sns\n",
      "pd.set_option('display.width', 500)\n",
      "pd.set_option('display.max_columns', 100)"
     ],
     "language": "python",
     "metadata": {},
     "outputs": [],
     "prompt_number": 1
    },
    {
     "cell_type": "code",
     "collapsed": false,
     "input": [
      "from string import punctuation"
     ],
     "language": "python",
     "metadata": {},
     "outputs": [],
     "prompt_number": 2
    },
    {
     "cell_type": "markdown",
     "metadata": {},
     "source": [
      "    set genesis file location "
     ]
    },
    {
     "cell_type": "code",
     "collapsed": false,
     "input": [
      "gen_file_loc = \"dst4l3/day2rahul/Genesis.txt\""
     ],
     "language": "python",
     "metadata": {},
     "outputs": [],
     "prompt_number": 5
    },
    {
     "cell_type": "markdown",
     "metadata": {},
     "source": [
      "    open genesis file,\n",
      "    read it into genesistex,\n",
      "    and close file,"
     ]
    },
    {
     "cell_type": "code",
     "collapsed": false,
     "input": [
      "genesisfile=open(gen_file_loc)\n",
      "genesistext=genesisfile.read()\n",
      "genesisfile.close()"
     ],
     "language": "python",
     "metadata": {},
     "outputs": [],
     "prompt_number": 6
    },
    {
     "cell_type": "markdown",
     "metadata": {},
     "source": [
      "    split text into words, place into a list called genesistoks,\n",
      "    use string.translate method to remove characters (tok is dummy var,\n",
      "    use string.lower() to lowercase all words (word is dummy var) - place results in list lctoks,\n",
      "    print first 100 items in list lctoks    "
     ]
    },
    {
     "cell_type": "code",
     "collapsed": false,
     "input": [
      "genesistoks=genesistext.split()\n",
      "genesistoks=[tok.translate(None,'[]1234567890\\xb6') for tok in genesistoks]\n",
      "lctoks = [word.lower() for word in genesistoks]\n",
      "lctoks[:100]"
     ],
     "language": "python",
     "metadata": {},
     "outputs": [
      {
       "metadata": {},
       "output_type": "pyout",
       "prompt_number": 7,
       "text": [
        "['the',\n",
        " 'first',\n",
        " 'book',\n",
        " 'of',\n",
        " 'moses,',\n",
        " 'called',\n",
        " 'genesis',\n",
        " 'chapter',\n",
        " '',\n",
        " '',\n",
        " 'in',\n",
        " 'the',\n",
        " 'beginning',\n",
        " 'god',\n",
        " 'created',\n",
        " 'the',\n",
        " 'heaven',\n",
        " 'and',\n",
        " 'the',\n",
        " 'earth.',\n",
        " '',\n",
        " 'and',\n",
        " 'the',\n",
        " 'earth',\n",
        " 'was',\n",
        " 'without',\n",
        " 'form,',\n",
        " 'and',\n",
        " 'void;',\n",
        " 'and',\n",
        " 'darkness',\n",
        " 'was',\n",
        " 'upon',\n",
        " 'the',\n",
        " 'face',\n",
        " 'of',\n",
        " 'the',\n",
        " 'deep.',\n",
        " 'and',\n",
        " 'the',\n",
        " 'spirit',\n",
        " 'of',\n",
        " 'god',\n",
        " 'moved',\n",
        " 'upon',\n",
        " 'the',\n",
        " 'face',\n",
        " 'of',\n",
        " 'the',\n",
        " 'waters.',\n",
        " '',\n",
        " 'and',\n",
        " 'god',\n",
        " 'said,',\n",
        " 'let',\n",
        " 'there',\n",
        " 'be',\n",
        " 'light:',\n",
        " 'and',\n",
        " 'there',\n",
        " 'was',\n",
        " 'light.',\n",
        " '',\n",
        " 'and',\n",
        " 'god',\n",
        " 'saw',\n",
        " 'the',\n",
        " 'light,',\n",
        " 'that',\n",
        " 'it',\n",
        " 'was',\n",
        " 'good:',\n",
        " 'and',\n",
        " 'god',\n",
        " 'divided',\n",
        " 'the',\n",
        " 'light',\n",
        " 'from',\n",
        " 'the',\n",
        " 'darkness.',\n",
        " '',\n",
        " 'and',\n",
        " 'god',\n",
        " 'called',\n",
        " 'the',\n",
        " 'light',\n",
        " 'day,',\n",
        " 'and',\n",
        " 'the',\n",
        " 'darkness',\n",
        " 'he',\n",
        " 'called',\n",
        " 'night.',\n",
        " 'and',\n",
        " 'the',\n",
        " 'evening',\n",
        " 'and',\n",
        " 'the',\n",
        " 'morning',\n",
        " 'were']"
       ]
      }
     ],
     "prompt_number": 7
    },
    {
     "cell_type": "markdown",
     "metadata": {},
     "source": [
      "    get length of lctoks"
     ]
    },
    {
     "cell_type": "code",
     "collapsed": false,
     "input": [
      "len(lctoks)"
     ],
     "language": "python",
     "metadata": {},
     "outputs": [
      {
       "metadata": {},
       "output_type": "pyout",
       "prompt_number": 14,
       "text": [
        "40092"
       ]
      }
     ],
     "prompt_number": 14
    },
    {
     "cell_type": "markdown",
     "metadata": {},
     "source": [
      "    set english stop work file location"
     ]
    },
    {
     "cell_type": "code",
     "collapsed": false,
     "input": [
      "stop_file_loc = \"dst4l3/day2rahul/english.stop.txt\""
     ],
     "language": "python",
     "metadata": {},
     "outputs": [],
     "prompt_number": 15
    },
    {
     "cell_type": "markdown",
     "metadata": {},
     "source": [
      "    use with construction to open english.stop.txt file and place each item in dummy list f,\n",
      "    read list item in f into dummy var e, and strip them whitespace\n",
      "    print out first 50 items in stops list"
     ]
    },
    {
     "cell_type": "code",
     "collapsed": false,
     "input": [
      "with open(stop_file_loc) as f:\n",
      "    stops=[e.strip() for e in f.readlines()]\n",
      "stops[:50]"
     ],
     "language": "python",
     "metadata": {},
     "outputs": [
      {
       "metadata": {},
       "output_type": "pyout",
       "prompt_number": 16,
       "text": [
        "['a',\n",
        " \"a's\",\n",
        " 'able',\n",
        " 'about',\n",
        " 'above',\n",
        " 'according',\n",
        " 'accordingly',\n",
        " 'across',\n",
        " 'actually',\n",
        " 'after',\n",
        " 'afterwards',\n",
        " 'again',\n",
        " 'against',\n",
        " \"ain't\",\n",
        " 'all',\n",
        " 'allow',\n",
        " 'allows',\n",
        " 'almost',\n",
        " 'alone',\n",
        " 'along',\n",
        " 'already',\n",
        " 'also',\n",
        " 'although',\n",
        " 'always',\n",
        " 'am',\n",
        " 'among',\n",
        " 'amongst',\n",
        " 'an',\n",
        " 'and',\n",
        " 'another',\n",
        " 'any',\n",
        " 'anybody',\n",
        " 'anyhow',\n",
        " 'anyone',\n",
        " 'anything',\n",
        " 'anyway',\n",
        " 'anyways',\n",
        " 'anywhere',\n",
        " 'apart',\n",
        " 'appear',\n",
        " 'appreciate',\n",
        " 'appropriate',\n",
        " 'are',\n",
        " \"aren't\",\n",
        " 'around',\n",
        " 'as',\n",
        " 'aside',\n",
        " 'ask',\n",
        " 'asking',\n",
        " 'associated']"
       ]
      }
     ],
     "prompt_number": 16
    },
    {
     "cell_type": "markdown",
     "metadata": {},
     "source": [
      "    check for empty strings "
     ]
    },
    {
     "cell_type": "code",
     "collapsed": false,
     "input": [
      "len([e for e in lctoks if e==\"\"])"
     ],
     "language": "python",
     "metadata": {},
     "outputs": [
      {
       "metadata": {},
       "output_type": "pyout",
       "prompt_number": 17,
       "text": [
        "1773"
       ]
      }
     ],
     "prompt_number": 17
    },
    {
     "cell_type": "markdown",
     "metadata": {},
     "source": [
      "    create temp list,\n",
      "    loop through lctoks, place item in token,\n",
      "    if token is NOT empty add it to temp list,\n",
      "    set new lctoks list from temp list,\n",
      "    print length of lctoks,"
     ]
    },
    {
     "cell_type": "code",
     "collapsed": false,
     "input": [
      "temp=[]\n",
      "for token in lctoks:\n",
      "    if token != \"\":\n",
      "        temp.append(token)\n",
      "lctoks=temp\n",
      "len(lctoks)"
     ],
     "language": "python",
     "metadata": {},
     "outputs": [
      {
       "metadata": {},
       "output_type": "pyout",
       "prompt_number": 20,
       "text": [
        "38319"
       ]
      }
     ],
     "prompt_number": 20
    },
    {
     "cell_type": "markdown",
     "metadata": {},
     "source": [
      "    create list lcnstoks,\n",
      "    loop through lctoks using tok var,\n",
      "    if tok is not in stops,\n",
      "    append to lcnstoks,\n",
      "    print first 100 list items in lcnstoks,"
     ]
    },
    {
     "cell_type": "code",
     "collapsed": false,
     "input": [
      "lcnstoks=[]\n",
      "for tok in lctoks:\n",
      "    if tok not in stops:\n",
      "        lcnstoks.append(tok)\n",
      "lcnstoks[:100]"
     ],
     "language": "python",
     "metadata": {},
     "outputs": [
      {
       "metadata": {},
       "output_type": "pyout",
       "prompt_number": 21,
       "text": [
        "['book',\n",
        " 'moses,',\n",
        " 'called',\n",
        " 'genesis',\n",
        " 'chapter',\n",
        " 'beginning',\n",
        " 'god',\n",
        " 'created',\n",
        " 'heaven',\n",
        " 'earth.',\n",
        " 'earth',\n",
        " 'form,',\n",
        " 'void;',\n",
        " 'darkness',\n",
        " 'face',\n",
        " 'deep.',\n",
        " 'spirit',\n",
        " 'god',\n",
        " 'moved',\n",
        " 'face',\n",
        " 'waters.',\n",
        " 'god',\n",
        " 'said,',\n",
        " 'light:',\n",
        " 'light.',\n",
        " 'god',\n",
        " 'light,',\n",
        " 'good:',\n",
        " 'god',\n",
        " 'divided',\n",
        " 'light',\n",
        " 'darkness.',\n",
        " 'god',\n",
        " 'called',\n",
        " 'light',\n",
        " 'day,',\n",
        " 'darkness',\n",
        " 'called',\n",
        " 'night.',\n",
        " 'evening',\n",
        " 'morning',\n",
        " 'day.',\n",
        " 'god',\n",
        " 'said,',\n",
        " 'firmament',\n",
        " 'midst',\n",
        " 'waters,',\n",
        " 'divide',\n",
        " 'waters',\n",
        " 'waters.',\n",
        " 'god',\n",
        " 'made',\n",
        " 'firmament,',\n",
        " 'divided',\n",
        " 'waters',\n",
        " 'firmament',\n",
        " 'waters',\n",
        " 'firmament:',\n",
        " 'so.',\n",
        " 'god',\n",
        " 'called',\n",
        " 'firmament',\n",
        " 'heaven.',\n",
        " 'evening',\n",
        " 'morning',\n",
        " 'day.',\n",
        " 'god',\n",
        " 'said,',\n",
        " 'waters',\n",
        " 'heaven',\n",
        " 'gathered',\n",
        " 'place,',\n",
        " 'dry',\n",
        " 'land',\n",
        " 'appear:',\n",
        " 'so.',\n",
        " 'god',\n",
        " 'called',\n",
        " 'dry',\n",
        " 'land',\n",
        " 'earth;',\n",
        " 'gathering',\n",
        " 'waters',\n",
        " 'called',\n",
        " 'seas:',\n",
        " 'god',\n",
        " 'good.',\n",
        " 'god',\n",
        " 'said,',\n",
        " 'earth',\n",
        " 'bring',\n",
        " 'grass,',\n",
        " 'herb',\n",
        " 'yielding',\n",
        " 'seed,',\n",
        " 'fruit',\n",
        " 'tree',\n",
        " 'yielding',\n",
        " 'fruit',\n",
        " 'kind,']"
       ]
      }
     ],
     "prompt_number": 21
    },
    {
     "cell_type": "markdown",
     "metadata": {},
     "source": [
      "    import punctuation\n",
      "    print it"
     ]
    },
    {
     "cell_type": "code",
     "collapsed": false,
     "input": [
      "from string import punctuation\n",
      "punctuation"
     ],
     "language": "python",
     "metadata": {},
     "outputs": [
      {
       "metadata": {},
       "output_type": "pyout",
       "prompt_number": 23,
       "text": [
        "'!\"#$%&\\'()*+,-./:;<=>?@[\\\\]^_`{|}~'"
       ]
      }
     ],
     "prompt_number": 23
    },
    {
     "cell_type": "markdown",
     "metadata": {},
     "source": [
      "        use translate function to remove single quote - place it into var my_punctuation"
     ]
    },
    {
     "cell_type": "code",
     "collapsed": false,
     "input": [
      "my_punctuation=punctuation.translate(None,\"'\")\n",
      "my_punctuation"
     ],
     "language": "python",
     "metadata": {},
     "outputs": [
      {
       "metadata": {},
       "output_type": "pyout",
       "prompt_number": 24,
       "text": [
        "'!\"#$%&()*+,-./:;<=>?@[\\\\]^_`{|}~'"
       ]
      }
     ],
     "prompt_number": 24
    },
    {
     "cell_type": "markdown",
     "metadata": {},
     "source": [
      "    "
     ]
    },
    {
     "cell_type": "code",
     "collapsed": false,
     "input": [
      "lctoks=[tok.translate(None,my_punctuation) for tok in lctoks]\n",
      "lcnstoks=[tok.translate(None,my_punctuation) for tok in lcnstoks]\n",
      "len(lctoks), len(lcnstoks)"
     ],
     "language": "python",
     "metadata": {},
     "outputs": [
      {
       "metadata": {},
       "output_type": "pyout",
       "prompt_number": 25,
       "text": [
        "(38319, 15917)"
       ]
      }
     ],
     "prompt_number": 25
    },
    {
     "cell_type": "code",
     "collapsed": false,
     "input": [],
     "language": "python",
     "metadata": {},
     "outputs": []
    }
   ],
   "metadata": {}
  }
 ]
}